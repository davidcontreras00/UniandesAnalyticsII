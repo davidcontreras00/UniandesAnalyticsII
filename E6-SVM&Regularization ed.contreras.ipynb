{
 "cells": [
  {
   "cell_type": "markdown",
   "metadata": {},
   "source": [
    "# Exercise 6\n",
    "\n",
    "## SVM & Regularization\n",
    "\n",
    "\n",
    "For this homework we consider a set of observations on a number of red and white wine varieties involving their chemical properties and ranking by tasters. Wine industry shows a recent growth spurt as social drinking is on the rise. The price of wine depends on a rather abstract concept of wine appreciation by wine tasters, opinion among whom may have a high degree of variability. Pricing of wine depends on such a volatile factor to some extent. Another key factor in wine certification and quality assessment is physicochemical tests which are laboratory-based and takes into account factors like acidity, pH level, presence of sugar and other chemical properties. For the wine market, it would be of interest if human quality of tasting can be related to the chemical properties of wine so that certification and quality assessment and assurance process is more controlled.\n",
    "\n",
    "Two datasets are available of which one dataset is on red wine and have 1599 different varieties and the other is on white wine and have 4898 varieties. All wines are produced in a particular area of Portugal. Data are collected on 12 different properties of the wines one of which is Quality, based on sensory data, and the rest are on chemical properties of the wines including density, acidity, alcohol content etc. All chemical properties of wines are continuous variables. Quality is an ordinal variable with possible ranking from 1 (worst) to 10 (best). Each variety of wine is tasted by three independent tasters and the final rank assigned is the median rank given by the tasters.\n",
    "\n",
    "A predictive model developed on this data is expected to provide guidance to vineyards regarding quality and price expected on their produce without heavy reliance on volatility of wine tasters."
   ]
  },
  {
   "cell_type": "code",
   "execution_count": 18,
   "metadata": {},
   "outputs": [],
   "source": [
    "import pandas as pd\n",
    "import numpy as np"
   ]
  },
  {
   "cell_type": "code",
   "execution_count": 4,
   "metadata": {},
   "outputs": [],
   "source": [
    "data_r = pd.read_csv('https://github.com/albahnsen/PracticalMachineLearningClass/raw/master/datasets/Wine_data_red.csv')\n",
    "data_w = pd.read_csv('https://github.com/albahnsen/PracticalMachineLearningClass/raw/master/datasets/Wine_data_white.csv')"
   ]
  },
  {
   "cell_type": "code",
   "execution_count": 5,
   "metadata": {},
   "outputs": [
    {
     "data": {
      "text/html": [
       "<div>\n",
       "<style scoped>\n",
       "    .dataframe tbody tr th:only-of-type {\n",
       "        vertical-align: middle;\n",
       "    }\n",
       "\n",
       "    .dataframe tbody tr th {\n",
       "        vertical-align: top;\n",
       "    }\n",
       "\n",
       "    .dataframe thead th {\n",
       "        text-align: right;\n",
       "    }\n",
       "</style>\n",
       "<table border=\"1\" class=\"dataframe\">\n",
       "  <thead>\n",
       "    <tr style=\"text-align: right;\">\n",
       "      <th></th>\n",
       "      <th>fixed acidity</th>\n",
       "      <th>volatile acidity</th>\n",
       "      <th>citric acid</th>\n",
       "      <th>residual sugar</th>\n",
       "      <th>chlorides</th>\n",
       "      <th>free sulfur dioxide</th>\n",
       "      <th>total sulfur dioxide</th>\n",
       "      <th>density</th>\n",
       "      <th>pH</th>\n",
       "      <th>sulphates</th>\n",
       "      <th>alcohol</th>\n",
       "      <th>quality</th>\n",
       "      <th>type</th>\n",
       "    </tr>\n",
       "  </thead>\n",
       "  <tbody>\n",
       "    <tr>\n",
       "      <th>2669</th>\n",
       "      <td>6.8</td>\n",
       "      <td>0.26</td>\n",
       "      <td>0.40</td>\n",
       "      <td>7.5</td>\n",
       "      <td>0.046</td>\n",
       "      <td>45.0</td>\n",
       "      <td>179.0</td>\n",
       "      <td>0.99583</td>\n",
       "      <td>3.20</td>\n",
       "      <td>0.49</td>\n",
       "      <td>9.3</td>\n",
       "      <td>5</td>\n",
       "      <td>white</td>\n",
       "    </tr>\n",
       "    <tr>\n",
       "      <th>5645</th>\n",
       "      <td>8.6</td>\n",
       "      <td>0.33</td>\n",
       "      <td>0.40</td>\n",
       "      <td>2.6</td>\n",
       "      <td>0.083</td>\n",
       "      <td>16.0</td>\n",
       "      <td>68.0</td>\n",
       "      <td>0.99782</td>\n",
       "      <td>3.30</td>\n",
       "      <td>0.48</td>\n",
       "      <td>9.4</td>\n",
       "      <td>5</td>\n",
       "      <td>red</td>\n",
       "    </tr>\n",
       "    <tr>\n",
       "      <th>2761</th>\n",
       "      <td>6.0</td>\n",
       "      <td>0.26</td>\n",
       "      <td>0.15</td>\n",
       "      <td>1.3</td>\n",
       "      <td>0.060</td>\n",
       "      <td>51.0</td>\n",
       "      <td>154.0</td>\n",
       "      <td>0.99354</td>\n",
       "      <td>3.14</td>\n",
       "      <td>0.51</td>\n",
       "      <td>8.7</td>\n",
       "      <td>5</td>\n",
       "      <td>white</td>\n",
       "    </tr>\n",
       "    <tr>\n",
       "      <th>2692</th>\n",
       "      <td>6.9</td>\n",
       "      <td>0.31</td>\n",
       "      <td>0.32</td>\n",
       "      <td>1.2</td>\n",
       "      <td>0.024</td>\n",
       "      <td>20.0</td>\n",
       "      <td>166.0</td>\n",
       "      <td>0.99208</td>\n",
       "      <td>3.05</td>\n",
       "      <td>0.54</td>\n",
       "      <td>9.8</td>\n",
       "      <td>6</td>\n",
       "      <td>white</td>\n",
       "    </tr>\n",
       "    <tr>\n",
       "      <th>366</th>\n",
       "      <td>6.0</td>\n",
       "      <td>0.18</td>\n",
       "      <td>0.27</td>\n",
       "      <td>1.5</td>\n",
       "      <td>0.089</td>\n",
       "      <td>40.0</td>\n",
       "      <td>143.0</td>\n",
       "      <td>0.99230</td>\n",
       "      <td>3.49</td>\n",
       "      <td>0.62</td>\n",
       "      <td>10.8</td>\n",
       "      <td>6</td>\n",
       "      <td>white</td>\n",
       "    </tr>\n",
       "  </tbody>\n",
       "</table>\n",
       "</div>"
      ],
      "text/plain": [
       "      fixed acidity  volatile acidity  citric acid  residual sugar  chlorides  \\\n",
       "2669            6.8              0.26         0.40             7.5      0.046   \n",
       "5645            8.6              0.33         0.40             2.6      0.083   \n",
       "2761            6.0              0.26         0.15             1.3      0.060   \n",
       "2692            6.9              0.31         0.32             1.2      0.024   \n",
       "366             6.0              0.18         0.27             1.5      0.089   \n",
       "\n",
       "      free sulfur dioxide  total sulfur dioxide  density    pH  sulphates  \\\n",
       "2669                 45.0                 179.0  0.99583  3.20       0.49   \n",
       "5645                 16.0                  68.0  0.99782  3.30       0.48   \n",
       "2761                 51.0                 154.0  0.99354  3.14       0.51   \n",
       "2692                 20.0                 166.0  0.99208  3.05       0.54   \n",
       "366                  40.0                 143.0  0.99230  3.49       0.62   \n",
       "\n",
       "      alcohol  quality   type  \n",
       "2669      9.3        5  white  \n",
       "5645      9.4        5    red  \n",
       "2761      8.7        5  white  \n",
       "2692      9.8        6  white  \n",
       "366      10.8        6  white  "
      ]
     },
     "execution_count": 5,
     "metadata": {},
     "output_type": "execute_result"
    }
   ],
   "source": [
    "data = data_w.assign(type = 'white')\n",
    "\n",
    "data = data.append(data_r.assign(type = 'red'), ignore_index=True)\n",
    "data.sample(5)"
   ]
  },
  {
   "cell_type": "markdown",
   "metadata": {},
   "source": [
    "# Exercise 6.1\n",
    "\n",
    "Show the frecuency table of the quality by type of wine"
   ]
  },
  {
   "cell_type": "code",
   "execution_count": 7,
   "metadata": {},
   "outputs": [
    {
     "name": "stdout",
     "output_type": "stream",
     "text": [
      "type      red  white   All\n",
      "quality                   \n",
      "3          10     20    30\n",
      "4          53    163   216\n",
      "5         681   1457  2138\n",
      "6         638   2198  2836\n",
      "7         199    880  1079\n",
      "8          18    175   193\n",
      "9           0      5     5\n",
      "All      1599   4898  6497\n"
     ]
    }
   ],
   "source": [
    "tab = pd.crosstab(data[\"quality\"],data[\"type\"] ,rownames=['quality'], colnames=['type'],margins=True)\n",
    "print(tab)"
   ]
  },
  {
   "cell_type": "code",
   "execution_count": 11,
   "metadata": {},
   "outputs": [
    {
     "data": {
      "text/html": [
       "<div>\n",
       "<style scoped>\n",
       "    .dataframe tbody tr th:only-of-type {\n",
       "        vertical-align: middle;\n",
       "    }\n",
       "\n",
       "    .dataframe tbody tr th {\n",
       "        vertical-align: top;\n",
       "    }\n",
       "\n",
       "    .dataframe thead th {\n",
       "        text-align: right;\n",
       "    }\n",
       "</style>\n",
       "<table border=\"1\" class=\"dataframe\">\n",
       "  <thead>\n",
       "    <tr style=\"text-align: right;\">\n",
       "      <th></th>\n",
       "      <th>fixed acidity</th>\n",
       "      <th>volatile acidity</th>\n",
       "      <th>citric acid</th>\n",
       "      <th>residual sugar</th>\n",
       "      <th>chlorides</th>\n",
       "      <th>free sulfur dioxide</th>\n",
       "      <th>total sulfur dioxide</th>\n",
       "      <th>density</th>\n",
       "      <th>pH</th>\n",
       "      <th>sulphates</th>\n",
       "      <th>alcohol</th>\n",
       "      <th>quality</th>\n",
       "      <th>type</th>\n",
       "      <th>quality2</th>\n",
       "    </tr>\n",
       "  </thead>\n",
       "  <tbody>\n",
       "    <tr>\n",
       "      <th>4793</th>\n",
       "      <td>6.0</td>\n",
       "      <td>0.31</td>\n",
       "      <td>0.32</td>\n",
       "      <td>7.4</td>\n",
       "      <td>0.175</td>\n",
       "      <td>47.0</td>\n",
       "      <td>159.0</td>\n",
       "      <td>0.99520</td>\n",
       "      <td>3.19</td>\n",
       "      <td>0.50</td>\n",
       "      <td>9.4</td>\n",
       "      <td>6</td>\n",
       "      <td>white</td>\n",
       "      <td>1</td>\n",
       "    </tr>\n",
       "    <tr>\n",
       "      <th>843</th>\n",
       "      <td>6.9</td>\n",
       "      <td>0.19</td>\n",
       "      <td>0.35</td>\n",
       "      <td>1.7</td>\n",
       "      <td>0.036</td>\n",
       "      <td>33.0</td>\n",
       "      <td>101.0</td>\n",
       "      <td>0.99315</td>\n",
       "      <td>3.21</td>\n",
       "      <td>0.54</td>\n",
       "      <td>10.8</td>\n",
       "      <td>7</td>\n",
       "      <td>white</td>\n",
       "      <td>1</td>\n",
       "    </tr>\n",
       "    <tr>\n",
       "      <th>5235</th>\n",
       "      <td>7.8</td>\n",
       "      <td>0.43</td>\n",
       "      <td>0.32</td>\n",
       "      <td>2.8</td>\n",
       "      <td>0.080</td>\n",
       "      <td>29.0</td>\n",
       "      <td>58.0</td>\n",
       "      <td>0.99740</td>\n",
       "      <td>3.31</td>\n",
       "      <td>0.64</td>\n",
       "      <td>10.3</td>\n",
       "      <td>5</td>\n",
       "      <td>red</td>\n",
       "      <td>0</td>\n",
       "    </tr>\n",
       "    <tr>\n",
       "      <th>1853</th>\n",
       "      <td>8.3</td>\n",
       "      <td>0.27</td>\n",
       "      <td>0.39</td>\n",
       "      <td>2.4</td>\n",
       "      <td>0.058</td>\n",
       "      <td>16.0</td>\n",
       "      <td>107.0</td>\n",
       "      <td>0.99550</td>\n",
       "      <td>3.28</td>\n",
       "      <td>0.59</td>\n",
       "      <td>10.3</td>\n",
       "      <td>5</td>\n",
       "      <td>white</td>\n",
       "      <td>0</td>\n",
       "    </tr>\n",
       "    <tr>\n",
       "      <th>5036</th>\n",
       "      <td>7.8</td>\n",
       "      <td>0.56</td>\n",
       "      <td>0.19</td>\n",
       "      <td>2.1</td>\n",
       "      <td>0.081</td>\n",
       "      <td>15.0</td>\n",
       "      <td>105.0</td>\n",
       "      <td>0.99620</td>\n",
       "      <td>3.33</td>\n",
       "      <td>0.54</td>\n",
       "      <td>9.5</td>\n",
       "      <td>5</td>\n",
       "      <td>red</td>\n",
       "      <td>0</td>\n",
       "    </tr>\n",
       "    <tr>\n",
       "      <th>5576</th>\n",
       "      <td>8.3</td>\n",
       "      <td>0.78</td>\n",
       "      <td>0.10</td>\n",
       "      <td>2.6</td>\n",
       "      <td>0.081</td>\n",
       "      <td>45.0</td>\n",
       "      <td>87.0</td>\n",
       "      <td>0.99830</td>\n",
       "      <td>3.48</td>\n",
       "      <td>0.53</td>\n",
       "      <td>10.0</td>\n",
       "      <td>5</td>\n",
       "      <td>red</td>\n",
       "      <td>0</td>\n",
       "    </tr>\n",
       "    <tr>\n",
       "      <th>2538</th>\n",
       "      <td>5.9</td>\n",
       "      <td>0.28</td>\n",
       "      <td>0.14</td>\n",
       "      <td>8.6</td>\n",
       "      <td>0.032</td>\n",
       "      <td>30.0</td>\n",
       "      <td>142.0</td>\n",
       "      <td>0.99542</td>\n",
       "      <td>3.28</td>\n",
       "      <td>0.44</td>\n",
       "      <td>9.5</td>\n",
       "      <td>6</td>\n",
       "      <td>white</td>\n",
       "      <td>1</td>\n",
       "    </tr>\n",
       "    <tr>\n",
       "      <th>411</th>\n",
       "      <td>7.3</td>\n",
       "      <td>0.28</td>\n",
       "      <td>0.36</td>\n",
       "      <td>12.7</td>\n",
       "      <td>0.040</td>\n",
       "      <td>38.0</td>\n",
       "      <td>140.0</td>\n",
       "      <td>0.99800</td>\n",
       "      <td>3.30</td>\n",
       "      <td>0.79</td>\n",
       "      <td>9.6</td>\n",
       "      <td>6</td>\n",
       "      <td>white</td>\n",
       "      <td>1</td>\n",
       "    </tr>\n",
       "    <tr>\n",
       "      <th>5657</th>\n",
       "      <td>8.8</td>\n",
       "      <td>0.42</td>\n",
       "      <td>0.21</td>\n",
       "      <td>2.5</td>\n",
       "      <td>0.092</td>\n",
       "      <td>33.0</td>\n",
       "      <td>88.0</td>\n",
       "      <td>0.99823</td>\n",
       "      <td>3.19</td>\n",
       "      <td>0.52</td>\n",
       "      <td>9.2</td>\n",
       "      <td>5</td>\n",
       "      <td>red</td>\n",
       "      <td>0</td>\n",
       "    </tr>\n",
       "    <tr>\n",
       "      <th>1483</th>\n",
       "      <td>6.9</td>\n",
       "      <td>0.25</td>\n",
       "      <td>0.24</td>\n",
       "      <td>3.6</td>\n",
       "      <td>0.057</td>\n",
       "      <td>13.0</td>\n",
       "      <td>85.0</td>\n",
       "      <td>0.99420</td>\n",
       "      <td>2.99</td>\n",
       "      <td>0.48</td>\n",
       "      <td>9.5</td>\n",
       "      <td>4</td>\n",
       "      <td>white</td>\n",
       "      <td>0</td>\n",
       "    </tr>\n",
       "  </tbody>\n",
       "</table>\n",
       "</div>"
      ],
      "text/plain": [
       "      fixed acidity  volatile acidity  citric acid  residual sugar  chlorides  \\\n",
       "4793            6.0              0.31         0.32             7.4      0.175   \n",
       "843             6.9              0.19         0.35             1.7      0.036   \n",
       "5235            7.8              0.43         0.32             2.8      0.080   \n",
       "1853            8.3              0.27         0.39             2.4      0.058   \n",
       "5036            7.8              0.56         0.19             2.1      0.081   \n",
       "5576            8.3              0.78         0.10             2.6      0.081   \n",
       "2538            5.9              0.28         0.14             8.6      0.032   \n",
       "411             7.3              0.28         0.36            12.7      0.040   \n",
       "5657            8.8              0.42         0.21             2.5      0.092   \n",
       "1483            6.9              0.25         0.24             3.6      0.057   \n",
       "\n",
       "      free sulfur dioxide  total sulfur dioxide  density    pH  sulphates  \\\n",
       "4793                 47.0                 159.0  0.99520  3.19       0.50   \n",
       "843                  33.0                 101.0  0.99315  3.21       0.54   \n",
       "5235                 29.0                  58.0  0.99740  3.31       0.64   \n",
       "1853                 16.0                 107.0  0.99550  3.28       0.59   \n",
       "5036                 15.0                 105.0  0.99620  3.33       0.54   \n",
       "5576                 45.0                  87.0  0.99830  3.48       0.53   \n",
       "2538                 30.0                 142.0  0.99542  3.28       0.44   \n",
       "411                  38.0                 140.0  0.99800  3.30       0.79   \n",
       "5657                 33.0                  88.0  0.99823  3.19       0.52   \n",
       "1483                 13.0                  85.0  0.99420  2.99       0.48   \n",
       "\n",
       "      alcohol  quality   type  quality2  \n",
       "4793      9.4        6  white         1  \n",
       "843      10.8        7  white         1  \n",
       "5235     10.3        5    red         0  \n",
       "1853     10.3        5  white         0  \n",
       "5036      9.5        5    red         0  \n",
       "5576     10.0        5    red         0  \n",
       "2538      9.5        6  white         1  \n",
       "411       9.6        6  white         1  \n",
       "5657      9.2        5    red         0  \n",
       "1483      9.5        4  white         0  "
      ]
     },
     "execution_count": 11,
     "metadata": {},
     "output_type": "execute_result"
    }
   ],
   "source": [
    "# Crea nueva variable de calidad y parte la base por cada tipo de vino\n",
    "data['quality2']= np.where(data ['quality']>=6,1,0)\n",
    "data.sample(10)"
   ]
  },
  {
   "cell_type": "markdown",
   "metadata": {},
   "source": [
    "# SVM"
   ]
  },
  {
   "cell_type": "markdown",
   "metadata": {},
   "source": [
    "# Exercise 6.2\n",
    "\n",
    "* Standarized the features (not the quality)\n",
    "* Create a binary target for each type of wine\n",
    "* Create two Linear SVM's for the white and red wines, repectively."
   ]
  },
  {
   "cell_type": "code",
   "execution_count": 213,
   "metadata": {},
   "outputs": [
    {
     "data": {
      "text/html": [
       "<div>\n",
       "<style scoped>\n",
       "    .dataframe tbody tr th:only-of-type {\n",
       "        vertical-align: middle;\n",
       "    }\n",
       "\n",
       "    .dataframe tbody tr th {\n",
       "        vertical-align: top;\n",
       "    }\n",
       "\n",
       "    .dataframe thead th {\n",
       "        text-align: right;\n",
       "    }\n",
       "</style>\n",
       "<table border=\"1\" class=\"dataframe\">\n",
       "  <thead>\n",
       "    <tr style=\"text-align: right;\">\n",
       "      <th></th>\n",
       "      <th>Zfixed_acidity</th>\n",
       "      <th>Zvolatile_acidity</th>\n",
       "      <th>Zcitric_acid</th>\n",
       "      <th>Zresidual_sugar</th>\n",
       "      <th>Zchlorides</th>\n",
       "      <th>Zfree_sulfur_dioxide</th>\n",
       "      <th>Ztotal_sulfur_dioxide</th>\n",
       "      <th>Zdensity</th>\n",
       "      <th>ZpH</th>\n",
       "      <th>Zsulphates</th>\n",
       "      <th>Zalcohol</th>\n",
       "      <th>type</th>\n",
       "      <th>quality</th>\n",
       "      <th>quality2</th>\n",
       "      <th>Target</th>\n",
       "    </tr>\n",
       "  </thead>\n",
       "  <tbody>\n",
       "    <tr>\n",
       "      <th>4127</th>\n",
       "      <td>-0.397511</td>\n",
       "      <td>-0.180205</td>\n",
       "      <td>0.147046</td>\n",
       "      <td>0.285188</td>\n",
       "      <td>0.084672</td>\n",
       "      <td>1.153631</td>\n",
       "      <td>1.756189</td>\n",
       "      <td>0.227907</td>\n",
       "      <td>0.693511</td>\n",
       "      <td>0.193097</td>\n",
       "      <td>-0.160823</td>\n",
       "      <td>white</td>\n",
       "      <td>5</td>\n",
       "      <td>0</td>\n",
       "      <td>0</td>\n",
       "    </tr>\n",
       "    <tr>\n",
       "      <th>2086</th>\n",
       "      <td>0.759598</td>\n",
       "      <td>-1.030629</td>\n",
       "      <td>0.009406</td>\n",
       "      <td>-0.828857</td>\n",
       "      <td>-0.172244</td>\n",
       "      <td>-0.762074</td>\n",
       "      <td>-0.260885</td>\n",
       "      <td>-0.232332</td>\n",
       "      <td>-0.488266</td>\n",
       "      <td>0.327510</td>\n",
       "      <td>-0.831615</td>\n",
       "      <td>white</td>\n",
       "      <td>5</td>\n",
       "      <td>0</td>\n",
       "      <td>0</td>\n",
       "    </tr>\n",
       "    <tr>\n",
       "      <th>4878</th>\n",
       "      <td>-0.783214</td>\n",
       "      <td>1.156175</td>\n",
       "      <td>-2.055193</td>\n",
       "      <td>-0.954975</td>\n",
       "      <td>-0.600437</td>\n",
       "      <td>-1.381861</td>\n",
       "      <td>-0.614758</td>\n",
       "      <td>-0.785953</td>\n",
       "      <td>0.133722</td>\n",
       "      <td>-1.218246</td>\n",
       "      <td>-0.831615</td>\n",
       "      <td>white</td>\n",
       "      <td>4</td>\n",
       "      <td>0</td>\n",
       "      <td>0</td>\n",
       "    </tr>\n",
       "    <tr>\n",
       "      <th>5795</th>\n",
       "      <td>-0.088949</td>\n",
       "      <td>1.520643</td>\n",
       "      <td>-2.124013</td>\n",
       "      <td>-0.660699</td>\n",
       "      <td>0.684143</td>\n",
       "      <td>-0.198632</td>\n",
       "      <td>-1.287116</td>\n",
       "      <td>0.267928</td>\n",
       "      <td>1.253300</td>\n",
       "      <td>0.327510</td>\n",
       "      <td>0.174573</td>\n",
       "      <td>red</td>\n",
       "      <td>6</td>\n",
       "      <td>1</td>\n",
       "      <td>1</td>\n",
       "    </tr>\n",
       "    <tr>\n",
       "      <th>200</th>\n",
       "      <td>-0.320370</td>\n",
       "      <td>-0.423183</td>\n",
       "      <td>-0.403514</td>\n",
       "      <td>2.240022</td>\n",
       "      <td>-0.200790</td>\n",
       "      <td>1.379008</td>\n",
       "      <td>1.420010</td>\n",
       "      <td>1.235097</td>\n",
       "      <td>-0.426067</td>\n",
       "      <td>-0.210144</td>\n",
       "      <td>-0.999313</td>\n",
       "      <td>white</td>\n",
       "      <td>5</td>\n",
       "      <td>0</td>\n",
       "      <td>0</td>\n",
       "    </tr>\n",
       "    <tr>\n",
       "      <th>367</th>\n",
       "      <td>-0.243230</td>\n",
       "      <td>-0.058716</td>\n",
       "      <td>-0.747613</td>\n",
       "      <td>-0.933956</td>\n",
       "      <td>-0.086605</td>\n",
       "      <td>0.477500</td>\n",
       "      <td>0.570716</td>\n",
       "      <td>-0.665890</td>\n",
       "      <td>-0.612663</td>\n",
       "      <td>-0.546178</td>\n",
       "      <td>-0.915464</td>\n",
       "      <td>white</td>\n",
       "      <td>6</td>\n",
       "      <td>1</td>\n",
       "      <td>0</td>\n",
       "    </tr>\n",
       "    <tr>\n",
       "      <th>2824</th>\n",
       "      <td>-0.011808</td>\n",
       "      <td>-0.483928</td>\n",
       "      <td>0.559966</td>\n",
       "      <td>0.180090</td>\n",
       "      <td>-0.257883</td>\n",
       "      <td>1.209975</td>\n",
       "      <td>0.995363</td>\n",
       "      <td>0.344634</td>\n",
       "      <td>-0.239471</td>\n",
       "      <td>-0.008524</td>\n",
       "      <td>-0.831615</td>\n",
       "      <td>white</td>\n",
       "      <td>6</td>\n",
       "      <td>1</td>\n",
       "      <td>0</td>\n",
       "    </tr>\n",
       "    <tr>\n",
       "      <th>5145</th>\n",
       "      <td>0.759598</td>\n",
       "      <td>1.581387</td>\n",
       "      <td>-1.022893</td>\n",
       "      <td>-0.660699</td>\n",
       "      <td>0.455773</td>\n",
       "      <td>-1.100140</td>\n",
       "      <td>-0.756307</td>\n",
       "      <td>0.534733</td>\n",
       "      <td>-0.115073</td>\n",
       "      <td>-0.546178</td>\n",
       "      <td>-0.999313</td>\n",
       "      <td>red</td>\n",
       "      <td>5</td>\n",
       "      <td>0</td>\n",
       "      <td>1</td>\n",
       "    </tr>\n",
       "    <tr>\n",
       "      <th>1789</th>\n",
       "      <td>0.451036</td>\n",
       "      <td>-0.848395</td>\n",
       "      <td>-0.541153</td>\n",
       "      <td>-0.807837</td>\n",
       "      <td>-0.857353</td>\n",
       "      <td>-0.254976</td>\n",
       "      <td>1.296155</td>\n",
       "      <td>-1.232851</td>\n",
       "      <td>-0.861459</td>\n",
       "      <td>1.402820</td>\n",
       "      <td>1.348459</td>\n",
       "      <td>white</td>\n",
       "      <td>7</td>\n",
       "      <td>1</td>\n",
       "      <td>0</td>\n",
       "    </tr>\n",
       "    <tr>\n",
       "      <th>6197</th>\n",
       "      <td>0.296754</td>\n",
       "      <td>7.534354</td>\n",
       "      <td>-2.192833</td>\n",
       "      <td>-0.702739</td>\n",
       "      <td>2.311277</td>\n",
       "      <td>-1.438205</td>\n",
       "      <td>-1.888699</td>\n",
       "      <td>0.021133</td>\n",
       "      <td>1.750891</td>\n",
       "      <td>-0.882212</td>\n",
       "      <td>0.342271</td>\n",
       "      <td>red</td>\n",
       "      <td>3</td>\n",
       "      <td>0</td>\n",
       "      <td>1</td>\n",
       "    </tr>\n",
       "  </tbody>\n",
       "</table>\n",
       "</div>"
      ],
      "text/plain": [
       "      Zfixed_acidity  Zvolatile_acidity  Zcitric_acid  Zresidual_sugar  \\\n",
       "4127       -0.397511          -0.180205      0.147046         0.285188   \n",
       "2086        0.759598          -1.030629      0.009406        -0.828857   \n",
       "4878       -0.783214           1.156175     -2.055193        -0.954975   \n",
       "5795       -0.088949           1.520643     -2.124013        -0.660699   \n",
       "200        -0.320370          -0.423183     -0.403514         2.240022   \n",
       "367        -0.243230          -0.058716     -0.747613        -0.933956   \n",
       "2824       -0.011808          -0.483928      0.559966         0.180090   \n",
       "5145        0.759598           1.581387     -1.022893        -0.660699   \n",
       "1789        0.451036          -0.848395     -0.541153        -0.807837   \n",
       "6197        0.296754           7.534354     -2.192833        -0.702739   \n",
       "\n",
       "      Zchlorides  Zfree_sulfur_dioxide  Ztotal_sulfur_dioxide  Zdensity  \\\n",
       "4127    0.084672              1.153631               1.756189  0.227907   \n",
       "2086   -0.172244             -0.762074              -0.260885 -0.232332   \n",
       "4878   -0.600437             -1.381861              -0.614758 -0.785953   \n",
       "5795    0.684143             -0.198632              -1.287116  0.267928   \n",
       "200    -0.200790              1.379008               1.420010  1.235097   \n",
       "367    -0.086605              0.477500               0.570716 -0.665890   \n",
       "2824   -0.257883              1.209975               0.995363  0.344634   \n",
       "5145    0.455773             -1.100140              -0.756307  0.534733   \n",
       "1789   -0.857353             -0.254976               1.296155 -1.232851   \n",
       "6197    2.311277             -1.438205              -1.888699  0.021133   \n",
       "\n",
       "           ZpH  Zsulphates  Zalcohol   type  quality  quality2  Target  \n",
       "4127  0.693511    0.193097 -0.160823  white        5         0       0  \n",
       "2086 -0.488266    0.327510 -0.831615  white        5         0       0  \n",
       "4878  0.133722   -1.218246 -0.831615  white        4         0       0  \n",
       "5795  1.253300    0.327510  0.174573    red        6         1       1  \n",
       "200  -0.426067   -0.210144 -0.999313  white        5         0       0  \n",
       "367  -0.612663   -0.546178 -0.915464  white        6         1       0  \n",
       "2824 -0.239471   -0.008524 -0.831615  white        6         1       0  \n",
       "5145 -0.115073   -0.546178 -0.999313    red        5         0       1  \n",
       "1789 -0.861459    1.402820  1.348459  white        7         1       0  \n",
       "6197  1.750891   -0.882212  0.342271    red        3         0       1  "
      ]
     },
     "execution_count": 213,
     "metadata": {},
     "output_type": "execute_result"
    }
   ],
   "source": [
    "import scipy.stats as sp\n",
    "\n",
    "# Selecciona las variables para estandarizar\n",
    "Zdata = pd.DataFrame(data[data.columns[0:11]])\n",
    "\n",
    "Zdata = pd.DataFrame(sp.stats.zscore(Zdata))\n",
    "Zdata.rename(columns={0:'Zfixed_acidity', 1:'Zvolatile_acidity', 2:'Zcitric_acid', 3:'Zresidual_sugar',\n",
    "                         4:'Zchlorides', 5:'Zfree_sulfur_dioxide', 6:'Ztotal_sulfur_dioxide',\n",
    "                         7:'Zdensity', 8:'ZpH', 9:'Zsulphates', 10:'Zalcohol'}, inplace=True)\n",
    "Zdata['type']=data['type']\n",
    "Zdata['quality']=data['quality']\n",
    "Zdata['quality2']=data['quality2']\n",
    "\n",
    "Zdata['Target']=np.where(Zdata['type']=='white', 0, 1)\n",
    "\n",
    "Zdata.sample(10)"
   ]
  },
  {
   "cell_type": "markdown",
   "metadata": {},
   "source": [
    "* Create two Linear SVM's for the white and red wines, repectively."
   ]
  },
  {
   "cell_type": "code",
   "execution_count": 66,
   "metadata": {},
   "outputs": [
    {
     "name": "stdout",
     "output_type": "stream",
     "text": [
      "[[237 283]\n",
      " [ 92 858]]\n",
      "0.7448979591836735\n"
     ]
    }
   ],
   "source": [
    "from sklearn.svm import SVC\n",
    "from sklearn.model_selection import train_test_split\n",
    "from sklearn.metrics import confusion_matrix\n",
    "from sklearn.metrics import accuracy_score\n",
    "\n",
    "train_W, test_W = train_test_split(Zdata[Zdata['Target']==0], test_size=0.3)\n",
    "train_R, test_R = train_test_split(Zdata[Zdata['Target']==1], test_size=0.3)\n",
    "#print(len(train_W), len(test_W), len(train_R),len(test_R))\n",
    "\n",
    "feature_cols = ['Zfixed_acidity','Zvolatile_acidity','Zcitric_acid','Zresidual_sugar','Zchlorides','Zfree_sulfur_dioxide',\n",
    "                'Ztotal_sulfur_dioxide','Zdensity','ZpH','Zsulphates','Zalcohol']\n",
    "XW = train_W[feature_cols]\n",
    "yW = train_W['quality2']\n",
    "\n",
    "SVM_W = SVC(kernel='linear')\n",
    "SVM_W.fit(XW, yW)\n",
    "test_W['quality2_pron']=SVM_W.predict(test_W[feature_cols])\n",
    "print(confusion_matrix(test_W['quality2'], test_W['quality2_pron']))\n",
    "print(accuracy_score(test_W['quality2'], test_W['quality2_pron']))\n"
   ]
  },
  {
   "cell_type": "code",
   "execution_count": 67,
   "metadata": {},
   "outputs": [
    {
     "name": "stdout",
     "output_type": "stream",
     "text": [
      "[[171  59]\n",
      " [ 67 183]]\n",
      "0.7375\n"
     ]
    }
   ],
   "source": [
    "feature_cols = ['Zfixed_acidity','Zvolatile_acidity','Zcitric_acid','Zresidual_sugar','Zchlorides','Zfree_sulfur_dioxide',\n",
    "                'Ztotal_sulfur_dioxide','Zdensity','ZpH','Zsulphates','Zalcohol']\n",
    "XR = train_R[feature_cols]\n",
    "yR = train_R['quality2']\n",
    "\n",
    "SVM_R = SVC(kernel='linear')\n",
    "SVM_R.fit(XR, yR)\n",
    "test_R['quality2_pron']=SVM_R.predict(test_R[feature_cols])\n",
    "print(confusion_matrix(test_R['quality2'], test_R['quality2_pron']))\n",
    "print(accuracy_score(test_R['quality2'], test_R['quality2_pron']))"
   ]
  },
  {
   "cell_type": "markdown",
   "metadata": {},
   "source": [
    "# Exercise 6.3\n",
    "\n",
    "Test the two SVM's using the different kernels (‘poly’, ‘rbf’, ‘sigmoid’)\n"
   ]
  },
  {
   "cell_type": "markdown",
   "metadata": {
    "collapsed": true
   },
   "source": [
    "### Vino Blanco"
   ]
  },
  {
   "cell_type": "code",
   "execution_count": 78,
   "metadata": {},
   "outputs": [
    {
     "name": "stdout",
     "output_type": "stream",
     "text": [
      "[[185 335]\n",
      " [ 49 901]]\n",
      "('poly:', 0.7387755102040816)\n"
     ]
    }
   ],
   "source": [
    "SVM_W2 = SVC(kernel='poly')\n",
    "SVM_W2.fit(XW, yW)\n",
    "test_W['quality2_pron']=SVM_W2.predict(test_W[feature_cols])\n",
    "print(confusion_matrix(test_W['quality2'], test_W['quality2_pron']))\n",
    "print('poly:',accuracy_score(test_W['quality2'], test_W['quality2_pron']))"
   ]
  },
  {
   "cell_type": "code",
   "execution_count": 143,
   "metadata": {},
   "outputs": [
    {
     "name": "stdout",
     "output_type": "stream",
     "text": [
      "[[293 227]\n",
      " [ 98 852]]\n",
      "('rbf:', 0.7789115646258503)\n"
     ]
    }
   ],
   "source": [
    "SVM_W3 = SVC(kernel='rbf')\n",
    "SVM_W3.fit(XW, yW)\n",
    "test_W['quality2_pron']=SVM_W3.predict(test_W[feature_cols])\n",
    "print(confusion_matrix(test_W['quality2'], test_W['quality2_pron']))\n",
    "print('rbf:',accuracy_score(test_W['quality2'], test_W['quality2_pron']))"
   ]
  },
  {
   "cell_type": "code",
   "execution_count": 144,
   "metadata": {},
   "outputs": [
    {
     "name": "stdout",
     "output_type": "stream",
     "text": [
      "[[217 303]\n",
      " [178 772]]\n",
      "('sigmoid:', 0.6727891156462585)\n"
     ]
    }
   ],
   "source": [
    "SVM_W4 = SVC(kernel='sigmoid')\n",
    "SVM_W4.fit(XW, yW)\n",
    "test_W['quality2_pron']=SVM_W4.predict(test_W[feature_cols])\n",
    "print(confusion_matrix(test_W['quality2'], test_W['quality2_pron']))\n",
    "print('sigmoid:',accuracy_score(test_W['quality2'], test_W['quality2_pron']))"
   ]
  },
  {
   "cell_type": "markdown",
   "metadata": {},
   "source": [
    "### Vino Rojo"
   ]
  },
  {
   "cell_type": "code",
   "execution_count": 145,
   "metadata": {},
   "outputs": [
    {
     "name": "stdout",
     "output_type": "stream",
     "text": [
      "[[181  49]\n",
      " [ 67 183]]\n",
      "('poly:', 0.7583333333333333)\n"
     ]
    }
   ],
   "source": [
    "SVM_R2 = SVC(kernel='poly')\n",
    "SVM_R2.fit(XR, yR)\n",
    "test_R['quality2_pron']=SVM_R2.predict(test_R[feature_cols])\n",
    "print(confusion_matrix(test_R['quality2'], test_R['quality2_pron']))\n",
    "print('poly:',accuracy_score(test_R['quality2'], test_R['quality2_pron']))"
   ]
  },
  {
   "cell_type": "code",
   "execution_count": 146,
   "metadata": {},
   "outputs": [
    {
     "name": "stdout",
     "output_type": "stream",
     "text": [
      "[[169  61]\n",
      " [ 57 193]]\n",
      "('rbf:', 0.7541666666666667)\n"
     ]
    }
   ],
   "source": [
    "SVM_R3 = SVC(kernel='rbf')\n",
    "SVM_R3.fit(XR, yR)\n",
    "test_R['quality2_pron']=SVM_R3.predict(test_R[feature_cols])\n",
    "print(confusion_matrix(test_R['quality2'], test_R['quality2_pron']))\n",
    "print('rbf:',accuracy_score(test_R['quality2'], test_R['quality2_pron']))"
   ]
  },
  {
   "cell_type": "code",
   "execution_count": 147,
   "metadata": {},
   "outputs": [
    {
     "name": "stdout",
     "output_type": "stream",
     "text": [
      "[[130 100]\n",
      " [ 84 166]]\n",
      "('sigmoid:', 0.6166666666666667)\n"
     ]
    }
   ],
   "source": [
    "SVM_R4 = SVC(kernel='sigmoid')\n",
    "SVM_R4.fit(XR, yR)\n",
    "test_R['quality2_pron']=SVM_R4.predict(test_R[feature_cols])\n",
    "print(confusion_matrix(test_R['quality2'], test_R['quality2_pron']))\n",
    "print('sigmoid:',accuracy_score(test_R['quality2'], test_R['quality2_pron']))"
   ]
  },
  {
   "cell_type": "markdown",
   "metadata": {},
   "source": [
    "# Exercise 6.4\n",
    "Using the best SVM find the parameters that gives the best performance\n",
    "\n",
    "'C': [0.1, 1, 10, 100, 1000], 'gamma': [0.01, 0.001, 0.0001]\n",
    "\n",
    "##### Usando Vino Blanco con kernel= ‘rbf’, ya que fue la mejor SVM"
   ]
  },
  {
   "cell_type": "code",
   "execution_count": 189,
   "metadata": {},
   "outputs": [
    {
     "data": {
      "text/plain": [
       "(1000, 0.01, 0.7836734693877551)"
      ]
     },
     "execution_count": 189,
     "metadata": {},
     "output_type": "execute_result"
    }
   ],
   "source": [
    "Res = []\n",
    "\n",
    "for gamma in [0.01,0.001,0.0001]: #Valores gamma\n",
    "    for C in [0.1,1,10,100,1000]: #Valores C\n",
    "        clf1 = SVC(C=C, gamma=gamma,kernel='rbf')\n",
    "        clf1.fit(XW, yW)\n",
    "        test_W['quality2_pron']=clf1.predict(test_W[feature_cols])\n",
    "        accuracy=accuracy_score(test_W['quality2'], test_W['quality2_pron'])\n",
    "        Res.append((C, gamma, accuracy))\n",
    "max(Res)"
   ]
  },
  {
   "cell_type": "markdown",
   "metadata": {},
   "source": [
    "# Exercise 6.5\n",
    "\n",
    "Compare the results with other methods\n",
    "\n",
    "###### Se pide usar modelo de regresión Logística"
   ]
  },
  {
   "cell_type": "code",
   "execution_count": 190,
   "metadata": {},
   "outputs": [
    {
     "name": "stdout",
     "output_type": "stream",
     "text": [
      "[[241 279]\n",
      " [ 96 854]]\n",
      "0.7448979591836735\n"
     ]
    }
   ],
   "source": [
    "from sklearn.linear_model import LogisticRegression\n",
    "logreg = LogisticRegression()\n",
    "\n",
    "logreg.fit(XW, yW)\n",
    "test_W['quality2_pron']=logreg.predict(test_W[feature_cols])\n",
    "print(confusion_matrix(test_W['quality2'], test_W['quality2_pron']))\n",
    "print(accuracy_score(test_W['quality2'], test_W['quality2_pron']))"
   ]
  },
  {
   "cell_type": "markdown",
   "metadata": {},
   "source": [
    "# Regularization"
   ]
  },
  {
   "cell_type": "markdown",
   "metadata": {},
   "source": [
    "# Exercise 6.6\n",
    "\n",
    "\n",
    "* Train a linear regression to predict wine quality (Continous)\n",
    "\n",
    "* Analyze the coefficients\n",
    "\n",
    "* Evaluate the RMSE"
   ]
  },
  {
   "cell_type": "code",
   "execution_count": 217,
   "metadata": {},
   "outputs": [
    {
     "name": "stdout",
     "output_type": "stream",
     "text": [
      "                              0\n",
      "Zfixed_acidity         0.091912\n",
      "Zvolatile_acidity     -0.226299\n",
      "Zcitric_acid          -0.011859\n",
      "Zresidual_sugar        0.214311\n",
      "Zchlorides            -0.019890\n",
      "Zfree_sulfur_dioxide   0.091833\n",
      "Ztotal_sulfur_dioxide -0.137716\n",
      "Zdensity              -0.163103\n",
      "ZpH                    0.078686\n",
      "Zsulphates             0.107571\n",
      "Zalcohol               0.324514\n"
     ]
    }
   ],
   "source": [
    "import warnings\n",
    "from sklearn import metrics\n",
    "warnings.filterwarnings(\"ignore\")\n",
    "\n",
    "from sklearn.linear_model import LinearRegression\n",
    "train, test = train_test_split(Zdata, test_size=0.3)\n",
    "\n",
    "linreg = LinearRegression()\n",
    "\n",
    "X = train[feature_cols]\n",
    "y = train['quality']\n",
    "linreg.fit(X, y)\n",
    "test['quality_pron']=linreg.predict(test[feature_cols])\n",
    "\n",
    "Coef_linreg=pd.DataFrame(np.transpose(linreg.coef_),np.transpose(feature_cols)) \n",
    "print(Coef_linreg)\n",
    "\n",
    "# Se observa que la variable que más aporta en el modelo de regresión lineal es Alcohol (positiva). Por otro lado la que\n",
    "# más aporta con signo negativo es volatile_acidity."
   ]
  },
  {
   "cell_type": "code",
   "execution_count": 218,
   "metadata": {},
   "outputs": [
    {
     "name": "stdout",
     "output_type": "stream",
     "text": [
      "('RMSE:', 0.7355630901280124)\n"
     ]
    }
   ],
   "source": [
    "from math import sqrt\n",
    "MSE_linreg=metrics.mean_squared_error(test['quality'], test['quality_pron'])\n",
    "RMSE=sqrt(MSE_linreg)\n",
    "print('RMSE:', RMSE)"
   ]
  },
  {
   "cell_type": "markdown",
   "metadata": {},
   "source": [
    "# Exercise 6.7\n",
    "\n",
    "* Estimate a ridge regression with alpha equals 0.1 and 1.\n",
    "* Compare the coefficients with the linear regression\n",
    "* Evaluate the RMSE"
   ]
  },
  {
   "cell_type": "code",
   "execution_count": 220,
   "metadata": {},
   "outputs": [
    {
     "name": "stdout",
     "output_type": "stream",
     "text": [
      "('RMSE Alpha 0.1:', 0.7355627382438407)\n"
     ]
    }
   ],
   "source": [
    "from sklearn.linear_model import Ridge\n",
    "ridreg = Ridge(alpha=0.1) # alpha equals 0.1\n",
    "ridreg.fit(X, y)\n",
    "test['quality_pron'] = ridreg.predict(test[feature_cols])\n",
    "print('RMSE Alpha 0.1:',np.sqrt(metrics.mean_squared_error(test['quality'], test['quality_pron'])))"
   ]
  },
  {
   "cell_type": "code",
   "execution_count": 221,
   "metadata": {},
   "outputs": [
    {
     "name": "stdout",
     "output_type": "stream",
     "text": [
      "('RMSE Alpha 1:', 0.7355596055247973)\n"
     ]
    }
   ],
   "source": [
    "ridreg1 = Ridge(alpha=1)\n",
    "ridreg1.fit(X, y)\n",
    "test['quality_pron'] = ridreg1.predict(test[feature_cols])\n",
    "print('RMSE Alpha 1:',np.sqrt(metrics.mean_squared_error(test['quality'], test['quality_pron'])))"
   ]
  },
  {
   "cell_type": "markdown",
   "metadata": {},
   "source": [
    "# Exercise 6.8\n",
    "\n",
    "* Estimate a lasso regression with alpha equals 0.01, 0.1 and 1.\n",
    "* Compare the coefficients with the linear regression\n",
    "* Evaluate the RMSE"
   ]
  },
  {
   "cell_type": "code",
   "execution_count": 222,
   "metadata": {},
   "outputs": [
    {
     "name": "stdout",
     "output_type": "stream",
     "text": [
      "('RMSE Alpha 0,01:', 0.7373468812894776)\n"
     ]
    }
   ],
   "source": [
    "# vs lasso alpha 0.01\n",
    "from sklearn.linear_model import Lasso\n",
    "lasreg = Lasso(alpha=0.01)\n",
    "lasreg.fit(X, y)\n",
    "test['quality_pron'] = lasreg.predict(test[feature_cols])\n",
    "\n",
    "print('RMSE Alpha 0,01:',np.sqrt(metrics.mean_squared_error(test['quality'], test['quality_pron'])))"
   ]
  },
  {
   "cell_type": "code",
   "execution_count": 224,
   "metadata": {},
   "outputs": [
    {
     "name": "stdout",
     "output_type": "stream",
     "text": [
      "('RMSE Alpha 0,1:', 0.7600294267285042)\n"
     ]
    }
   ],
   "source": [
    "# vs lasso alpha 0.1\n",
    "from sklearn.linear_model import Lasso\n",
    "lasreg = Lasso(alpha=0.1)\n",
    "lasreg.fit(X, y)\n",
    "test['quality_pron'] = lasreg.predict(test[feature_cols])\n",
    "\n",
    "print('RMSE Alpha 0,1:',np.sqrt(metrics.mean_squared_error(test['quality'], test['quality_pron'])))"
   ]
  },
  {
   "cell_type": "code",
   "execution_count": 225,
   "metadata": {},
   "outputs": [
    {
     "name": "stdout",
     "output_type": "stream",
     "text": [
      "('RMSE Alpha 1:', 0.8627257425162578)\n"
     ]
    }
   ],
   "source": [
    "# vs lasso alpha 1\n",
    "from sklearn.linear_model import Lasso\n",
    "lasreg = Lasso(alpha=1)\n",
    "lasreg.fit(X, y)\n",
    "test['quality_pron'] = lasreg.predict(test[feature_cols])\n",
    "\n",
    "print('RMSE Alpha 1:',np.sqrt(metrics.mean_squared_error(test['quality'], test['quality_pron'])))"
   ]
  },
  {
   "cell_type": "markdown",
   "metadata": {},
   "source": [
    "###### A medida que se incrementa el valor de alpha, el valor de RMSE crece, es decir los pronósticos se alejan cada vez más del dato real "
   ]
  },
  {
   "cell_type": "markdown",
   "metadata": {},
   "source": [
    "# Exercise 6.9\n",
    "\n",
    "* Create a binary target\n",
    "\n",
    "* Train a logistic regression to predict wine quality (binary)\n",
    "\n",
    "* Analyze the coefficients\n",
    "\n",
    "* Evaluate the f1score"
   ]
  },
  {
   "cell_type": "code",
   "execution_count": 230,
   "metadata": {},
   "outputs": [
    {
     "name": "stdout",
     "output_type": "stream",
     "text": [
      "[[ 386  311]\n",
      " [ 197 1056]]\n",
      "0.7394871794871795\n"
     ]
    }
   ],
   "source": [
    "X = train[feature_cols]\n",
    "y = train['quality2']\n",
    "\n",
    "logreg.fit(X, y)\n",
    "test['quality2_pron']=logreg.predict(test[feature_cols])\n",
    "print(confusion_matrix(test['quality2'], test['quality2_pron']))\n",
    "print(accuracy_score(test['quality2'], test['quality2_pron']))"
   ]
  },
  {
   "cell_type": "code",
   "execution_count": 232,
   "metadata": {},
   "outputs": [
    {
     "name": "stdout",
     "output_type": "stream",
     "text": [
      "0.8061068702290076\n"
     ]
    }
   ],
   "source": [
    "from sklearn.metrics import f1_score\n",
    "print(f1_score(test['quality2'], test['quality2_pron']))"
   ]
  },
  {
   "cell_type": "markdown",
   "metadata": {},
   "source": [
    "# Exercise 6.10\n",
    "\n",
    "* Estimate a regularized logistic regression using:\n",
    "* C = 0.01, 0.1 & 1.0\n",
    "* penalty = ['l1, 'l2']\n",
    "* Compare the coefficients and the f1score"
   ]
  },
  {
   "cell_type": "code",
   "execution_count": 240,
   "metadata": {},
   "outputs": [],
   "source": [
    "X = train[feature_cols]\n",
    "y = train['quality2']\n",
    "\n",
    "Res = []\n",
    "for C in [0.01, 0.1, 1]: # C \n",
    "    for penal in ['l1', 'l2']: # Penalty\n",
    "        logreg = LogisticRegression(C=C, penalty=penal,solver='liblinear')\n",
    "        logreg.fit(X, y)\n",
    "        test['quality2_pron']=logreg.predict(test[feature_cols]) \n",
    "        f1=f1_score(test['quality2'], test['quality2_pron']) \n",
    "        Res.append((C, penal, f1))\n",
    "       # coeficientes_tmp=pd.DataFrame(np.transpose(logreg.coef_))\n",
    "       # coeficientes_1=np.column_stack([coeficientes_1, coeficientes_tmp])\n",
    "        Res"
   ]
  }
 ],
 "metadata": {
  "kernelspec": {
   "display_name": "Python 2",
   "language": "python",
   "name": "python2"
  },
  "language_info": {
   "codemirror_mode": {
    "name": "ipython",
    "version": 2
   },
   "file_extension": ".py",
   "mimetype": "text/x-python",
   "name": "python",
   "nbconvert_exporter": "python",
   "pygments_lexer": "ipython2",
   "version": "2.7.15"
  }
 },
 "nbformat": 4,
 "nbformat_minor": 1
}
